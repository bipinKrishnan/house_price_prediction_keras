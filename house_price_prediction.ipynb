{
 "cells": [
  {
   "cell_type": "code",
   "execution_count": 35,
   "metadata": {
    "scrolled": true
   },
   "outputs": [],
   "source": [
    "from tensorflow.keras import datasets\n",
    "from tensorflow.keras import layers, Sequential\n",
    "import tensorflow.keras as keras\n",
    "import numpy as np"
   ]
  },
  {
   "cell_type": "code",
   "execution_count": 3,
   "metadata": {},
   "outputs": [
    {
     "name": "stdout",
     "output_type": "stream",
     "text": [
      "Downloading data from https://s3.amazonaws.com/keras-datasets/boston_housing.npz\n",
      "57344/57026 [==============================] - 1s 9us/step\n"
     ]
    }
   ],
   "source": [
    "(train_x, train_y), (test_x, test_y) = datasets.boston_housing.load_data()"
   ]
  },
  {
   "cell_type": "code",
   "execution_count": 8,
   "metadata": {},
   "outputs": [],
   "source": [
    "#normalization\n",
    "train_x -= train_x.mean(axis=0)\n",
    "train_x /= train_x.std(axis=0)\n",
    "\n",
    "test_x -= test_x.mean(axis=0)\n",
    "test_x /= test_x.std(axis=0)"
   ]
  },
  {
   "cell_type": "code",
   "execution_count": 84,
   "metadata": {},
   "outputs": [],
   "source": [
    "def k_fold_val(train_x, train_y, n, i):\n",
    "    val_split_x = train_x[i:i+n]\n",
    "    train_x1 = train_x[:i]\n",
    "    train_x2 = train_x[i+n:]\n",
    "    train_x_out = np.concatenate((train_x1, train_x2), axis=0)\n",
    "        \n",
    "    val_split_y = train_y[i:i+n]\n",
    "    train_y1 = train_y[:i]\n",
    "    train_y2 = train_y[i+n:]\n",
    "    train_y_out = np.concatenate((train_y1, train_y2), axis=0)        \n",
    "    \n",
    "    return (train_x_out, train_y_out, val_split_x, val_split_y)"
   ]
  },
  {
   "cell_type": "code",
   "execution_count": 77,
   "metadata": {},
   "outputs": [
    {
     "data": {
      "text/plain": [
       "(404, 13)"
      ]
     },
     "execution_count": 77,
     "metadata": {},
     "output_type": "execute_result"
    }
   ],
   "source": [
    "train_x.shape"
   ]
  },
  {
   "cell_type": "code",
   "execution_count": 16,
   "metadata": {},
   "outputs": [],
   "source": [
    "model = Sequential()\n",
    "\n",
    "model.add(layers.Dense(200, activation='relu'))\n",
    "model.add(layers.Dropout(0.4))\n",
    "\n",
    "model.add(layers.Dense(300, activation='relu'))\n",
    "model.add(layers.Dropout(0.4))\n",
    "\n",
    "model.add(layers.Dense(1))"
   ]
  },
  {
   "cell_type": "code",
   "execution_count": 17,
   "metadata": {},
   "outputs": [],
   "source": [
    "model.compile(optimizer='rmsprop', loss='mse', metrics=['acc'])"
   ]
  },
  {
   "cell_type": "code",
   "execution_count": 106,
   "metadata": {},
   "outputs": [
    {
     "name": "stdout",
     "output_type": "stream",
     "text": [
      "\n",
      "Starting epoch 0\n",
      "Train on 270 samples, validate on 134 samples\n",
      "Epoch 1/5\n",
      "270/270 [==============================] - 0s 148us/step - loss: 15.7050 - acc: 0.0222 - val_loss: 5.4180 - val_acc: 0.0299\n",
      "Epoch 2/5\n",
      "270/270 [==============================] - 0s 163us/step - loss: 13.0344 - acc: 0.0185 - val_loss: 7.2174 - val_acc: 0.0299\n",
      "Epoch 3/5\n",
      "270/270 [==============================] - 0s 163us/step - loss: 13.8721 - acc: 0.0111 - val_loss: 6.0848 - val_acc: 0.0224\n",
      "Epoch 4/5\n",
      "270/270 [==============================] - 0s 148us/step - loss: 13.9648 - acc: 0.0185 - val_loss: 9.4413 - val_acc: 0.0299\n",
      "Epoch 5/5\n",
      "270/270 [==============================] - 0s 163us/step - loss: 13.0084 - acc: 0.0148 - val_loss: 6.0120 - val_acc: 0.0299\n",
      "\n",
      "Starting epoch 1\n",
      "Train on 270 samples, validate on 134 samples\n",
      "Epoch 1/5\n",
      "270/270 [==============================] - 0s 164us/step - loss: 11.3396 - acc: 0.0185 - val_loss: 6.0387 - val_acc: 0.0448\n",
      "Epoch 2/5\n",
      "270/270 [==============================] - 0s 163us/step - loss: 12.0689 - acc: 0.0296 - val_loss: 5.6922 - val_acc: 0.0299\n",
      "Epoch 3/5\n",
      "270/270 [==============================] - 0s 163us/step - loss: 11.7291 - acc: 0.0148 - val_loss: 6.0209 - val_acc: 0.0149\n",
      "Epoch 4/5\n",
      "270/270 [==============================] - 0s 163us/step - loss: 10.9952 - acc: 0.0185 - val_loss: 7.0594 - val_acc: 0.0000e+00\n",
      "Epoch 5/5\n",
      "270/270 [==============================] - 0s 148us/step - loss: 13.2410 - acc: 0.0074 - val_loss: 6.1390 - val_acc: 0.0299\n",
      "\n",
      "Starting epoch 2\n",
      "Train on 270 samples, validate on 134 samples\n",
      "Epoch 1/5\n",
      "270/270 [==============================] - 0s 163us/step - loss: 10.7380 - acc: 0.0222 - val_loss: 8.3712 - val_acc: 0.0522\n",
      "Epoch 2/5\n",
      "270/270 [==============================] - 0s 148us/step - loss: 9.0249 - acc: 0.0148 - val_loss: 10.4814 - val_acc: 0.0224\n",
      "Epoch 3/5\n",
      "270/270 [==============================] - 0s 163us/step - loss: 11.3034 - acc: 0.0185 - val_loss: 9.4156 - val_acc: 0.0299\n",
      "Epoch 4/5\n",
      "270/270 [==============================] - 0s 163us/step - loss: 9.5861 - acc: 0.0148 - val_loss: 9.2261 - val_acc: 0.0299\n",
      "Epoch 5/5\n",
      "270/270 [==============================] - 0s 163us/step - loss: 10.8979 - acc: 0.0148 - val_loss: 11.2324 - val_acc: 0.0224\n",
      "\n",
      "Starting epoch 3\n",
      "Train on 402 samples, validate on 2 samples\n",
      "Epoch 1/5\n",
      "402/402 [==============================] - 0s 139us/step - loss: 12.8208 - acc: 0.0174 - val_loss: 6.0715 - val_acc: 0.0000e+00\n",
      "Epoch 2/5\n",
      "402/402 [==============================] - 0s 129us/step - loss: 14.2801 - acc: 0.0174 - val_loss: 2.4138 - val_acc: 0.0000e+00\n",
      "Epoch 3/5\n",
      "402/402 [==============================] - 0s 139us/step - loss: 11.4285 - acc: 0.0249 - val_loss: 7.5169 - val_acc: 0.0000e+00\n",
      "Epoch 4/5\n",
      "402/402 [==============================] - 0s 159us/step - loss: 11.5180 - acc: 0.0174 - val_loss: 7.6755 - val_acc: 0.0000e+00\n",
      "Epoch 5/5\n",
      "402/402 [==============================] - 0s 169us/step - loss: 12.6738 - acc: 0.0149 - val_loss: 5.8364 - val_acc: 0.0000e+00\n",
      "\n",
      "Overall Loss:   12.544251153480946\n"
     ]
    }
   ],
   "source": [
    "epoch = 5\n",
    "loss = 0\n",
    "k = 3\n",
    "row, col = train_x.shape\n",
    "n = row // k\n",
    "\n",
    "for j, i in enumerate(range(0, row, n)):\n",
    "    print('\\nStarting epoch {}'.format(j))\n",
    "    x_train, y_train, x_val, y_val = k_fold_val(train_x, train_y, n, i)\n",
    "    model.fit(x_train, y_train, validation_data=(x_val, y_val), epochs=epoch)\n",
    "    \n",
    "for i in range(epoch):\n",
    "    loss += model.history.history['loss'][i]\n",
    "    \n",
    "loss /= epoch\n",
    "print(\"\\nOverall Loss:  \", loss)"
   ]
  },
  {
   "cell_type": "code",
   "execution_count": 107,
   "metadata": {},
   "outputs": [
    {
     "name": "stdout",
     "output_type": "stream",
     "text": [
      "102/102 [==============================] - 0s 78us/step\n"
     ]
    },
    {
     "data": {
      "text/plain": [
       "[16.819040036668966, 0.00980392156862745]"
      ]
     },
     "execution_count": 107,
     "metadata": {},
     "output_type": "execute_result"
    }
   ],
   "source": [
    "model.evaluate(test_x, test_y)"
   ]
  },
  {
   "cell_type": "code",
   "execution_count": 108,
   "metadata": {},
   "outputs": [
    {
     "data": {
      "text/plain": [
       "array([[ 7.0138316],\n",
       "       [18.930323 ],\n",
       "       [21.834448 ],\n",
       "       [29.736536 ],\n",
       "       [24.96641  ],\n",
       "       [20.61262  ],\n",
       "       [27.580309 ],\n",
       "       [21.616041 ],\n",
       "       [18.549505 ],\n",
       "       [19.61594  ]], dtype=float32)"
      ]
     },
     "execution_count": 108,
     "metadata": {},
     "output_type": "execute_result"
    }
   ],
   "source": [
    "model.predict(test_x[0:10])"
   ]
  },
  {
   "cell_type": "code",
   "execution_count": null,
   "metadata": {},
   "outputs": [],
   "source": []
  }
 ],
 "metadata": {
  "kernelspec": {
   "display_name": "Python 3",
   "language": "python",
   "name": "python3"
  },
  "language_info": {
   "codemirror_mode": {
    "name": "ipython",
    "version": 3
   },
   "file_extension": ".py",
   "mimetype": "text/x-python",
   "name": "python",
   "nbconvert_exporter": "python",
   "pygments_lexer": "ipython3",
   "version": "3.6.5"
  }
 },
 "nbformat": 4,
 "nbformat_minor": 2
}
